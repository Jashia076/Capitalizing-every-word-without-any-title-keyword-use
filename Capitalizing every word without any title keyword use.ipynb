{
 "cells": [
  {
   "cell_type": "markdown",
   "id": "885dc920",
   "metadata": {},
   "source": [
    "## User will give a sentence. The python program will convert every letter from the 1st word into capital letter. User can't use the .title() function "
   ]
  },
  {
   "cell_type": "code",
   "execution_count": 1,
   "id": "7b692560",
   "metadata": {},
   "outputs": [
    {
     "name": "stdout",
     "output_type": "stream",
     "text": [
      "Give a sentence: hi mammamia. i am jashia\n",
      "Hi Mammamia. I Am Jashia "
     ]
    }
   ],
   "source": [
    "L = input(\"Give a sentence: \") #taking input from the user\n",
    "\n",
    "splitting = L.split() #splitting every words\n",
    "\n",
    "for i in splitting: #capitalizing each word\n",
    "    print(str(i).capitalize(), end = \" \")"
   ]
  },
  {
   "cell_type": "code",
   "execution_count": null,
   "id": "c0dce475",
   "metadata": {},
   "outputs": [],
   "source": []
  }
 ],
 "metadata": {
  "kernelspec": {
   "display_name": "Python 3 (ipykernel)",
   "language": "python",
   "name": "python3"
  },
  "language_info": {
   "codemirror_mode": {
    "name": "ipython",
    "version": 3
   },
   "file_extension": ".py",
   "mimetype": "text/x-python",
   "name": "python",
   "nbconvert_exporter": "python",
   "pygments_lexer": "ipython3",
   "version": "3.10.9"
  }
 },
 "nbformat": 4,
 "nbformat_minor": 5
}
